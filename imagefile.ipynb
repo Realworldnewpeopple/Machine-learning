{
 "cells": [
  {
   "cell_type": "code",
   "execution_count": 70,
   "metadata": {},
   "outputs": [
    {
     "name": "stdout",
     "output_type": "stream",
     "text": [
      "enter the image you want to use:beautiful-cute-daylight-1468379.jpg\n"
     ]
    }
   ],
   "source": [
    "import cv2\n",
    "image=input(\"enter the image you want to use:\")"
   ]
  },
  {
   "cell_type": "code",
   "execution_count": 59,
   "metadata": {},
   "outputs": [],
   "source": [
    "img=cv2.imread(image)"
   ]
  },
  {
   "cell_type": "code",
   "execution_count": 60,
   "metadata": {},
   "outputs": [],
   "source": [
    "crop_img=img[500:,500:1800,:]"
   ]
  },
  {
   "cell_type": "code",
   "execution_count": 61,
   "metadata": {},
   "outputs": [],
   "source": [
    "resized_img=cv2.resize(crop_img,(800,800),interpolation=cv2.INTER_AREA)"
   ]
  },
  {
   "cell_type": "code",
   "execution_count": 62,
   "metadata": {},
   "outputs": [
    {
     "data": {
      "text/plain": [
       "-1"
      ]
     },
     "execution_count": 62,
     "metadata": {},
     "output_type": "execute_result"
    }
   ],
   "source": [
    "cv2.namedWindow(\"original Image\",cv2.WINDOW_NORMAL)\n",
    "cv2.imshow(\"original Image\",img)\n",
    "cv2.waitKey(4)"
   ]
  },
  {
   "cell_type": "code",
   "execution_count": 63,
   "metadata": {},
   "outputs": [
    {
     "data": {
      "text/plain": [
       "-1"
      ]
     },
     "execution_count": 63,
     "metadata": {},
     "output_type": "execute_result"
    }
   ],
   "source": [
    "cv2.namedWindow(\"crop_image\",cv2.WINDOW_NORMAL)\n",
    "cv2.imshow(\"crop_image\",crop_img)\n",
    "cv2.waitKey(4)"
   ]
  },
  {
   "cell_type": "code",
   "execution_count": 64,
   "metadata": {},
   "outputs": [
    {
     "data": {
      "text/plain": [
       "-1"
      ]
     },
     "execution_count": 64,
     "metadata": {},
     "output_type": "execute_result"
    }
   ],
   "source": [
    "cv2.imshow(\"resized image\",resized_img)\n",
    "cv2.waitKey(4)"
   ]
  },
  {
   "cell_type": "code",
   "execution_count": 65,
   "metadata": {},
   "outputs": [],
   "source": [
    "cv2.destroyAllWindows()"
   ]
  },
  {
   "cell_type": "markdown",
   "metadata": {},
   "source": [
    "### We have gone through the origial image, resized image and the croped image"
   ]
  },
  {
   "cell_type": "markdown",
   "metadata": {},
   "source": [
    "### what we need is the croped image without distortion\n",
    "\n",
    "#### so what we are doing is finding the perfected dimentio according to your prefered size, so what we need to do is...suppose you want to find the find hieght say x, so to do that you need to maintain your image width for the height you want to find ...x*(width/height)...same goes for the if you want to have change in width say y....y*(height/width) ."
   ]
  },
  {
   "cell_type": "markdown",
   "metadata": {},
   "source": [
    "#### so we have collected the new height or new width and your preffered x or y as dimentoin and resize them accordingly"
   ]
  },
  {
   "cell_type": "code",
   "execution_count": 71,
   "metadata": {},
   "outputs": [],
   "source": [
    "def resize_image(image,width=None,height=None,inter=cv2.INTER_AREA):\n",
    "    img=cv2.imread(image)\n",
    "    h,w=img.shape[0:2]\n",
    "    dim=None\n",
    "    if width==None and height==None:\n",
    "        return image\n",
    "    if width == None:\n",
    "        r=height/float(h)\n",
    "        dim=(int(w*r),height)\n",
    "    else:\n",
    "        r=width/float(w)\n",
    "        dim=(width, int(w*r))\n",
    "    resized_image=cv2.resize(img,dim,interpolation=inter)\n",
    "    return resized_image"
   ]
  },
  {
   "cell_type": "code",
   "execution_count": 72,
   "metadata": {},
   "outputs": [],
   "source": [
    "new_resize=resize_image(image,600)"
   ]
  },
  {
   "cell_type": "code",
   "execution_count": 73,
   "metadata": {},
   "outputs": [
    {
     "data": {
      "text/plain": [
       "-1"
      ]
     },
     "execution_count": 73,
     "metadata": {},
     "output_type": "execute_result"
    }
   ],
   "source": [
    "cv2.imshow(\"new resized image\", new_resize)\n",
    "cv2.waitKey(4)"
   ]
  },
  {
   "cell_type": "code",
   "execution_count": 74,
   "metadata": {},
   "outputs": [],
   "source": [
    "cv2.destroyAllWindows()"
   ]
  },
  {
   "cell_type": "code",
   "execution_count": null,
   "metadata": {},
   "outputs": [],
   "source": []
  }
 ],
 "metadata": {
  "kernelspec": {
   "display_name": "Python 3",
   "language": "python",
   "name": "python3"
  },
  "language_info": {
   "codemirror_mode": {
    "name": "ipython",
    "version": 3
   },
   "file_extension": ".py",
   "mimetype": "text/x-python",
   "name": "python",
   "nbconvert_exporter": "python",
   "pygments_lexer": "ipython3",
   "version": "3.7.1"
  }
 },
 "nbformat": 4,
 "nbformat_minor": 2
}
